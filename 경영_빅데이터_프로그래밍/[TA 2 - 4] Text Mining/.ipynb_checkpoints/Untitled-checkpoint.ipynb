{
 "cells": [
  {
   "cell_type": "markdown",
   "metadata": {},
   "source": [
    "# 영여 텍스트 전처리\n",
    "영어 문장 토큰화하기"
   ]
  },
  {
   "cell_type": "code",
   "execution_count": 8,
   "metadata": {},
   "outputs": [
    {
     "name": "stdout",
     "output_type": "stream",
     "text": [
      "['My', 'only', 'regret', 'in', 'life', 'is', 'tha', 'I', 'did', 'not', 'drink', 'more', 'wine']\n"
     ]
    }
   ],
   "source": [
    "import nltk\n",
    "from nltk.corpus import stopwords\n",
    "from collections import Counter\n",
    "\n",
    "# str형식의 변수\n",
    "Sentence1 = 'My only regret in life is tha I did not drink more wine'\n",
    "Sentence2 = 'I drink to mkae other people more interesting'\n",
    "Sentence3 = 'An intelligent man is sometimes forced to be drunk to spend time with his fools'\n",
    "\n",
    "# list형식의 변수\n",
    "Sentences = [Sentence1,Sentence2,Sentence3]\n",
    "\n",
    "\n",
    "\n",
    "Sentence1_token = nltk.word_tokenize(Sentence1) # 토큰화 할땐 str형식이여야 함. \n",
    "Sentence2_token = nltk.word_tokenize(Sentence2)\n",
    "Sentence3_token = nltk.word_tokenize(Sentence3)\n",
    "\n",
    "# Sentences = nltk.word_tokenize(Sentences) list형식은 토큰화가 안됨\n",
    "\n",
    "print(Sentence1_token) # 토큰화된 결과"
   ]
  },
  {
   "cell_type": "markdown",
   "metadata": {},
   "source": [
    "토큰화된 결과를 활용해 품사 태킹"
   ]
  },
  {
   "cell_type": "code",
   "execution_count": 9,
   "metadata": {},
   "outputs": [
    {
     "data": {
      "text/plain": [
       "list"
      ]
     },
     "execution_count": 9,
     "metadata": {},
     "output_type": "execute_result"
    }
   ],
   "source": [
    "# 품사 태킹을 할땐 토큰화된 list를 가지고 해야함\n",
    "type(Sentence1_token) # 품사 태깅한 list\n",
    "\n",
    "nltk.pos_tag(Sentence1_token)\n",
    "    "
   ]
  },
  {
   "cell_type": "code",
   "execution_count": null,
   "metadata": {
    "collapsed": true
   },
   "outputs": [],
   "source": []
  }
 ],
 "metadata": {
  "kernelspec": {
   "display_name": "Python 3",
   "language": "python",
   "name": "python3"
  },
  "language_info": {
   "codemirror_mode": {
    "name": "ipython",
    "version": 3
   },
   "file_extension": ".py",
   "mimetype": "text/x-python",
   "name": "python",
   "nbconvert_exporter": "python",
   "pygments_lexer": "ipython3",
   "version": "3.6.1"
  }
 },
 "nbformat": 4,
 "nbformat_minor": 2
}
