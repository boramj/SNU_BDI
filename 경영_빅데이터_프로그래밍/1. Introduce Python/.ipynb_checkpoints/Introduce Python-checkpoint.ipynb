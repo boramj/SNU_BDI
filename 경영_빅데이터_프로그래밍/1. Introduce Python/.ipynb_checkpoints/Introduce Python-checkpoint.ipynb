{
 "cells": [
  {
   "cell_type": "markdown",
   "metadata": {},
   "source": [
    "# 파이썬은 프로그래밍 언어라고 보기보단 잘 만들어진 앱이라고 볼 수 있다.\n",
    "\n",
    "## 1 파이썬 기본 메뉴얼\n",
    "### - 앞 줄에 '#'를 붙이면 줄 전체가 주석처리 가능.\n",
    "### - 주석달기는 습관화 해야 함. 한 줄당 주석 달기\n",
    "### - 중간중간에 빈 칸을 넣어 가독성을 높일 수 있음.\n",
    "### - help 메뉴를 활용해 모듈, 키워드, 주제에 대한 도움말을 얻을 수 있음.\n",
    "\n",
    "\n",
    "## 2 프로그램 논리 개발\n",
    "### - 프로그래밍을 하기전에 수도코딩을 하는 습관\n",
    "### - 오류 컨트롤은 문법 < 런타임 < 로직 순으로 잡기 힘듬\n",
    "### - cmd, terminal 기본 문법 숙지 필요\n",
    "### - 코드 실행 순서 복습 (p.40)\n",
    "\n",
    "\n",
    "## 3 프로그래밍 설계와 실습\n",
    "### - 인코딩 오류는 '#-*- coding: utf-8 -*-'를 맨 앞 줄에 등록 (p.40)\n",
    "### - 매개변수(parameter)와 인자(agrument)\n",
    "### - return, print 함수는 리턴 값을 주지 않음 / imput함수는 리턴값을 줌\n"
   ]
  },
  {
   "cell_type": "code",
   "execution_count": 3,
   "metadata": {},
   "outputs": [
    {
     "name": "stdout",
     "output_type": "stream",
     "text": [
      "Hi professor!\n",
      "my name is Emily\n",
      "my name is John\n",
      "my name is Amy\n"
     ]
    }
   ],
   "source": [
    "# 빅데이터 프로그래밍 교재 - 사용자 함수  (p.46)\n",
    "\n",
    "def hi():\n",
    "    print('Hi professor!')\n",
    "def name(name):\n",
    "    print('my name is', name)\n",
    "    \n",
    "def main():\n",
    "    hi()\n",
    "    name('Emily')\n",
    "    name('John')\n",
    "    name('Amy')\n",
    "\n",
    "main()\n"
   ]
  },
  {
   "cell_type": "code",
   "execution_count": null,
   "metadata": {
    "collapsed": true
   },
   "outputs": [],
   "source": []
  }
 ],
 "metadata": {
  "kernelspec": {
   "display_name": "Python 3",
   "language": "python",
   "name": "python3"
  },
  "language_info": {
   "codemirror_mode": {
    "name": "ipython",
    "version": 3
   },
   "file_extension": ".py",
   "mimetype": "text/x-python",
   "name": "python",
   "nbconvert_exporter": "python",
   "pygments_lexer": "ipython3",
   "version": "3.6.1"
  }
 },
 "nbformat": 4,
 "nbformat_minor": 2
}
