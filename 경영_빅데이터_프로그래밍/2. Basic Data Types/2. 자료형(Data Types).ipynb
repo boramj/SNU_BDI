{
 "cells": [
  {
   "cell_type": "markdown",
   "metadata": {},
   "source": [
    "# 기본 자료형\n",
    "\n",
    "## 2. 자료형 (Data Types)\n",
    "### - 불변성, 생성한 후 값의 변경이 불가\n",
    "### - 불린 : 참(True - 0이 아닌 정수), 거짓(False - 0, None, 빈 배열)\n",
    "### - 정수 : 정수 리터럴은 기본적으로 10진수로 표현됨"
   ]
  },
  {
   "cell_type": "code",
   "execution_count": 22,
   "metadata": {},
   "outputs": [
    {
     "name": "stdout",
     "output_type": "stream",
     "text": [
      "Hi True\n",
      "Hello\n"
     ]
    },
    {
     "data": {
      "text/plain": [
       "1"
      ]
     },
     "execution_count": 22,
     "metadata": {},
     "output_type": "execute_result"
    }
   ],
   "source": [
    "# 빅데이터 프로그래밍 교재 - 자료형 - 불린  (p.60)\n",
    "# if문은 기본 실행 값이 Ture\n",
    "\n",
    "if False :\n",
    "    print('Hi False')\n",
    "    \n",
    "if True :\n",
    "    print(('Hi True'))\n",
    "    \n",
    "if 0 :\n",
    "    print('Hi 0')\n",
    "    \n",
    "if None :\n",
    "    print('Hi None')\n",
    "    \n",
    "if [] :\n",
    "    print('Hi []')\n",
    "    \n",
    "if '' :\n",
    "    print(\"Hi ''\")\n",
    "\n",
    "\n",
    "# 불린 연산자\n",
    "if True or False :\n",
    "    print('Hello') # 왼쪽 항만으로 참 거짓을 판별할 수 있는 경우 오른쪽 항을 계산하지 않음 (속도를 위해)\n",
    "\n",
    "if True and False : # False때문에 실행되지 않음\n",
    "    print('Hello')\n",
    "\n",
    "t, f = True, False\n",
    "\n",
    "t or f\n",
    "t and f \n",
    "f or False\n",
    "t and True\n",
    "not True\n",
    "\n",
    "0 and 5\n",
    "1 and 5\n",
    "0 or 5\n",
    "1 or 5"
   ]
  },
  {
   "cell_type": "code",
   "execution_count": 39,
   "metadata": {},
   "outputs": [
    {
     "data": {
      "text/plain": [
       "False"
      ]
     },
     "execution_count": 39,
     "metadata": {},
     "output_type": "execute_result"
    }
   ],
   "source": [
    "# 빅데이터 프로그래밍 교재 - 자료형 - 정수(int)   (p.60)\n",
    "\n",
    "\n",
    "# 숫자 연산자 (p.64)\n",
    "x = 9\n",
    "y = 12\n",
    "\n",
    "x + y\n",
    "x - y \n",
    "x * y\n",
    "x / y # 항상 소수형으로 변환, 무조건 소수형(float)\n",
    "x // y # 나눈 소수점 이하는 버림\n",
    "x % y # 나머지를 반환\n",
    "-x \n",
    "x**y # 제곱값을 반환 \n",
    "\n",
    "\n",
    "# 정수 변환 함수 (p.66)\n",
    "abs(-12)\n",
    "divmod(13,7)\n",
    "pow(2,2)\n",
    "pow(2,2,3)\n",
    "round(1.2345,2)\n",
    "int('10')\n",
    "\n",
    "\n",
    "# 비트 연산자 (p.67)\n",
    "x = True\n",
    "y = False\n",
    "\n",
    "x | y # 비트연산자 or\n",
    "x ^ y # 서로 다른 경우 참을 반환\n",
    "x & y # 둘다 참이면 참을 반환 \n"
   ]
  },
  {
   "cell_type": "code",
   "execution_count": null,
   "metadata": {
    "collapsed": true
   },
   "outputs": [],
   "source": []
  }
 ],
 "metadata": {
  "kernelspec": {
   "display_name": "Python 3",
   "language": "python",
   "name": "python3"
  },
  "language_info": {
   "codemirror_mode": {
    "name": "ipython",
    "version": 3
   },
   "file_extension": ".py",
   "mimetype": "text/x-python",
   "name": "python",
   "nbconvert_exporter": "python",
   "pygments_lexer": "ipython3",
   "version": "3.6.1"
  }
 },
 "nbformat": 4,
 "nbformat_minor": 2
}
