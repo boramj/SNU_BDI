{
 "cells": [
  {
   "cell_type": "markdown",
   "metadata": {},
   "source": [
    "# 기본 자료형\n",
    "\n",
    "## 1. 식별자와 예약어\n",
    "### - 식별자 : 메모리의 위치에 이름을 부여하는 것\n",
    "### - 예약어 : 파이썬에 기본적으로 내재되어 있는 keyword"
   ]
  },
  {
   "cell_type": "code",
   "execution_count": 6,
   "metadata": {},
   "outputs": [
    {
     "name": "stdout",
     "output_type": "stream",
     "text": [
      "0x10ae73880\n"
     ]
    }
   ],
   "source": [
    "# 빅데이터 프로그래밍 교재 - 기본 자료형 - 식별자  (p.53)\n",
    "num = 5\n",
    "print(hex(id(num)))  # 메모리 위치로 특정 값이 나옴, 5라는 정수값이 저장된 메모리 위치\n"
   ]
  },
  {
   "cell_type": "code",
   "execution_count": null,
   "metadata": {
    "collapsed": true
   },
   "outputs": [],
   "source": [
    "# 빅데이터 프로그래밍 교재 - 기본 자료형 - 예약어  (p.56)\n",
    "\n",
    "and\n",
    "as\n",
    "assert\n",
    "break\n",
    "class\n",
    "continue\n",
    "def\n",
    "del\n",
    "elif\n",
    "except\n",
    "False # 첫글자는 대문자\n",
    "finally\n",
    "for\n",
    "from\n",
    "global\n",
    "if\n",
    "import\n",
    "in\n",
    "is\n",
    "lambda\n",
    "None\n",
    "nonlocal\n",
    "not\n",
    "or\n",
    "pass\n",
    "raise\n",
    "return\n",
    "True # 첫글자는 대문자\n",
    "try\n",
    "while\n",
    "with\n",
    "yield\n"
   ]
  }
 ],
 "metadata": {
  "kernelspec": {
   "display_name": "Python 3",
   "language": "python",
   "name": "python3"
  },
  "language_info": {
   "codemirror_mode": {
    "name": "ipython",
    "version": 3
   },
   "file_extension": ".py",
   "mimetype": "text/x-python",
   "name": "python",
   "nbconvert_exporter": "python",
   "pygments_lexer": "ipython3",
   "version": "3.6.1"
  }
 },
 "nbformat": 4,
 "nbformat_minor": 2
}
