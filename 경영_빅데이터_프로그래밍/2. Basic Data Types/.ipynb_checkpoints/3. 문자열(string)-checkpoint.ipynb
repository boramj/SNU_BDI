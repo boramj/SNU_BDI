{
 "cells": [
  {
   "cell_type": "markdown",
   "metadata": {},
   "source": [
    "# 기본 자료형\n",
    "\n",
    "## 3. 문자열 (string)\n",
    "### - 불변성, 생성한 후 값의 변경이 불가\n",
    "### - 리터럴을 생성하기 위해 ' ',\" \",''' '''을 활용"
   ]
  },
  {
   "cell_type": "code",
   "execution_count": 57,
   "metadata": {},
   "outputs": [
    {
     "name": "stdout",
     "output_type": "stream",
     "text": [
      "Single 'quotes' must be escqped; but \"double\" quotes are fine.\n",
      "Firts Line.\n",
      "Second Line\n",
      "C:\\home\n",
      "ame\n",
      "C:\\home\\name\n",
      "('/user/local/bin', '/', 'python3')\n",
      "python.mpg is a MPEG video file.\n"
     ]
    },
    {
     "data": {
      "text/plain": [
       "['Java', 'Python', 'Ruby']"
      ]
     },
     "execution_count": 57,
     "metadata": {},
     "output_type": "execute_result"
    }
   ],
   "source": [
    "# 빅데이터 프로그래밍 교재 - 문자열 - 이스케이프  (p.75)\n",
    "# 크롤링, 줄바꿈 등의 상황에서 문자열 이스케이프가 활용됨\n",
    "\n",
    "print('Single \\'quotes\\' must be escqped; but \"double\" quotes are fine.') # ''속에서 '를 쓰기 위해선 \\'\n",
    "print('Firts Line.\\nSecond Line')\n",
    "import re\n",
    "\n",
    "print('C:\\home\\name')\n",
    "print(r'C:\\home\\name')\n",
    "\n",
    "# 빅데이터 프로그래밍 교재 - 문자열 - 문자열 분할  (p.78)\n",
    "\n",
    "s1 = 'Hello my name is arnorfati, nice to meet you'\n",
    "type(s1)\n",
    "s1[:]\n",
    "s1[10:20]\n",
    "\n",
    "# 빅데이터 프로그래밍 교재 - 문자열 - 문자열 접합 (p.81)\n",
    "s1 = 'Hello my name is arnorfati, nice to meet you.'\n",
    "s2 = 'and Today is so hot on this summer season'\n",
    "\n",
    "s1 + s2 # 같은 문자열이여야지만 접합 가능(s1+123은 접합되지 않음), 띄어쓰기 없이 접합\n",
    "languages = ['Java','Python','Ruby']\n",
    "joins = ' '.join(languages)\n",
    "\n",
    "\n",
    "# 기타 문자열 함수 (p.86~)\n",
    "# count\n",
    "s1.count('e')\n",
    "s1.count('e',10,13)\n",
    "\n",
    "# find/rfind\n",
    "s1.find('e') # 'e'가 가장 처음 오는 위치\n",
    "\n",
    "s='/user/local/bin/python3'\n",
    "i= s.rfind('/')\n",
    "\n",
    "if i == -1: # 마지막 /에서 str을 나눠 tuple로 저장\n",
    "    result = '','', s\n",
    "else :\n",
    "    result = s[:i], s[i], s[i+1:]\n",
    "\n",
    "result = s.rpartition('/')\n",
    "print(result)\n",
    "\n",
    "# endswith\n",
    "filename = 'python.mpg'\n",
    "if filename.lower().endswith(('.mpg','.mpeg')):\n",
    "    print(filename, \"is a MPEG video file.\")\n",
    "\n",
    "# strip\n",
    "x = '   No Smoking   '\n",
    "x.strip()\n",
    "\n",
    "#split\n",
    "joins.split(' ')\n"
   ]
  },
  {
   "cell_type": "code",
   "execution_count": null,
   "metadata": {
    "collapsed": true
   },
   "outputs": [],
   "source": []
  }
 ],
 "metadata": {
  "kernelspec": {
   "display_name": "Python 3",
   "language": "python",
   "name": "python3"
  },
  "language_info": {
   "codemirror_mode": {
    "name": "ipython",
    "version": 3
   },
   "file_extension": ".py",
   "mimetype": "text/x-python",
   "name": "python",
   "nbconvert_exporter": "python",
   "pygments_lexer": "ipython3",
   "version": "3.6.1"
  }
 },
 "nbformat": 4,
 "nbformat_minor": 2
}
