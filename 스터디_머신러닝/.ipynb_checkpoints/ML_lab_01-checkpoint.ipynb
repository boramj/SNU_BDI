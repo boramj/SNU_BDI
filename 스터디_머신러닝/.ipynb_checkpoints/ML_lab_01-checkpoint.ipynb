{
 "cells": [
  {
   "cell_type": "markdown",
   "metadata": {},
   "source": [
    "#  Introduce TensorFlow"
   ]
  },
  {
   "cell_type": "code",
   "execution_count": 2,
   "metadata": {},
   "outputs": [
    {
     "data": {
      "text/plain": [
       "'1.2.1'"
      ]
     },
     "execution_count": 2,
     "metadata": {},
     "output_type": "execute_result"
    }
   ],
   "source": [
    "# TensorFlow : data flow garph\n",
    "\n",
    "#설치 후 제대로 설치 되어있는지 확인하는 방법\n",
    "import tensorflow as tf\n",
    "tf.__version__"
   ]
  },
  {
   "cell_type": "code",
   "execution_count": 3,
   "metadata": {},
   "outputs": [
    {
     "name": "stdout",
     "output_type": "stream",
     "text": [
      "b'Hello, TensorFlow!'\n"
     ]
    }
   ],
   "source": [
    "hello = tf.constant('Hello, TensorFlow!')\n",
    "sess = tf.Session()\n",
    "\n",
    "\n",
    "print(sess.run(hello))\n",
    "# b문자가 나오는 경우가 있는데 Byte literals의 의미"
   ]
  },
  {
   "cell_type": "code",
   "execution_count": 8,
   "metadata": {},
   "outputs": [
    {
     "name": "stdout",
     "output_type": "stream",
     "text": [
      "node1: Tensor(\"Const_4:0\", shape=(), dtype=float32)\n",
      "node2: Tensor(\"Const_5:0\", shape=(), dtype=float32)\n",
      "node3: Tensor(\"Add_1:0\", shape=(), dtype=float32)\n"
     ]
    }
   ],
   "source": [
    "# Computational Graph\n",
    "node1 = tf.constant(3.0,tf.float32)\n",
    "node2 = tf.constant(4.0,tf.float32)\n",
    "node3 = tf.add(node1,node2)\n",
    "\n",
    "# 결과 값을 보여주는 것이 아니라 어떤 Tensor인지를 알려주는 것\n",
    "print('node1:',node1)\n",
    "print('node2:',node2)\n",
    "print('node3:',node3)"
   ]
  },
  {
   "cell_type": "code",
   "execution_count": 9,
   "metadata": {},
   "outputs": [
    {
     "name": "stdout",
     "output_type": "stream",
     "text": [
      "sess.run(node1,node2) [3.0, 4.0]\n",
      "sess.run(node3) 7.0\n"
     ]
    }
   ],
   "source": [
    "sess = tf.Session()\n",
    "print(\"sess.run(node1,node2)\",sess.run([node1,node2]))\n",
    "print(\"sess.run(node3)\", sess.run(node3))\n",
    "\n",
    "# session, node, tensor의 개념에 대해 이해가 필요\n",
    "# TensorFlow MEchanics은 1.Build graph(그래프를 그리고) 2. sess.run(실행) 3. update variables "
   ]
  },
  {
   "cell_type": "code",
   "execution_count": 10,
   "metadata": {},
   "outputs": [
    {
     "name": "stdout",
     "output_type": "stream",
     "text": [
      "7.5\n",
      "[ 3.  7.]\n"
     ]
    }
   ],
   "source": [
    "# Placeholder - 그래프를 먼저 그리고 실행 하도록?\n",
    "a = tf.placeholder(tf.float32)\n",
    "b = tf.placeholder(tf.float32)\n",
    "adder_node = a + b\n",
    "print(sess.run(adder_node,feed_dict={a:3,b:4.5}))\n",
    "\n",
    "#각 element별 계산\n",
    "print(sess.run(adder_node,feed_dict={a:[1,3],b:[2,4]}))"
   ]
  },
  {
   "cell_type": "markdown",
   "metadata": {},
   "source": [
    "## Tensor Ranks, Shapes and Types\n",
    "### Rank\n",
    "1. Rank: 0 , Scalar\n",
    "2. Rank: 1 , Vector\n",
    "3. Rank: 2, Matric\n",
    "4. Rank: 3, 3-Tensor(cube of numbers)\n",
    "5. Rank: n, n-Tensor\n",
    "\n",
    "### Shape\n",
    "\n",
    "### Type\n",
    " 주로 tf.float32 또는 tf.in-32를 많이 사용함\n"
   ]
  },
  {
   "cell_type": "code",
   "execution_count": null,
   "metadata": {
    "collapsed": true
   },
   "outputs": [],
   "source": []
  }
 ],
 "metadata": {
  "kernelspec": {
   "display_name": "Python 3",
   "language": "python",
   "name": "python3"
  },
  "language_info": {
   "codemirror_mode": {
    "name": "ipython",
    "version": 3
   },
   "file_extension": ".py",
   "mimetype": "text/x-python",
   "name": "python",
   "nbconvert_exporter": "python",
   "pygments_lexer": "ipython3",
   "version": "3.6.1"
  }
 },
 "nbformat": 4,
 "nbformat_minor": 2
}
