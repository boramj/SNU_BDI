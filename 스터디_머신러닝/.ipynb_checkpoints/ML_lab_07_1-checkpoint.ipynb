{
 "cells": [
  {
   "cell_type": "code",
   "execution_count": 10,
   "metadata": {},
   "outputs": [],
   "source": [
    "import tensorflow as tf\n",
    "import numpy as np\n",
    "import matplotlib.pyplot as plt\n",
    "import random\n",
    "\n",
    "from tensorflow.examples.tutorials.mnist import input_data\n",
    "\n",
    "# mnist 데이터를 불러오기 ( 웹에서 바로 받기))\n"
   ]
  },
  {
   "cell_type": "code",
   "execution_count": 15,
   "metadata": {},
   "outputs": [
    {
     "name": "stdout",
     "output_type": "stream",
     "text": [
      "Extracting MNIST_data/train-images-idx3-ubyte.gz\n",
      "Extracting MNIST_data/train-labels-idx1-ubyte.gz\n",
      "Extracting MNIST_data/t10k-images-idx3-ubyte.gz\n",
      "Extracting MNIST_data/t10k-labels-idx1-ubyte.gz\n"
     ]
    }
   ],
   "source": [
    "# 데이터 세팅\n",
    "# MNIST data는 총 28*28 총 784개의 픽셀로 구성\n",
    "# one_hot encoding \n",
    "mnist = input_data.read_data_sets('MNIST_data/', one_hot= True)\n",
    "\n",
    "X = tf.placeholder(tf.float32, [None, 784])\n",
    "nb_classes = 10 # 총 우리가 원하는 예측변수 갯수( 0 ~ 9)\n",
    "Y = tf.placeholder(tf.float32, [None, nb_classes])\n",
    "\n",
    "W = tf.Variable(tf.random_normal([784, nb_classes]))\n",
    "b = tf.Variable(tf.random_normal([nb_classes]))\n",
    "\n"
   ]
  },
  {
   "cell_type": "code",
   "execution_count": 16,
   "metadata": {},
   "outputs": [],
   "source": [
    "# 학습시키기 위한 tensorflow 세팅\n",
    "\n",
    "nb_classes = 10\n",
    "X = tf.placeholder(tf.float32,[None,784])  # 28*28\n",
    "Y = tf.placeholder(tf.float32,[None, nb_classes])\n",
    "\n",
    "W = tf.Variable(tf.random_normal([784, nb_classes]))\n",
    "b = tf.Variable(tf.random_normal([nb_classes]))\n",
    "\n"
   ]
  },
  {
   "cell_type": "code",
   "execution_count": 17,
   "metadata": {
    "collapsed": true
   },
   "outputs": [],
   "source": [
    "# multiclass logistic regression - softmax\n",
    "hypothesis = tf.nn.softmax(tf.matmul(X, W) + b)\n",
    "\n",
    "cost = tf.reduce_mean(-tf.reduce_sum(Y * tf.log(hypothesis), axis=1))\n",
    "optimizer = tf.train.GradientDescentOptimizer(learning_rate=0.1).minimize(cost)\n",
    "\n",
    "# 모델 평가\n",
    "is_correct = tf.equal(tf.arg_max(hypothesis, 1), tf.arg_max(Y, 1))\n",
    "accuracy = tf.reduce_mean(tf.cast(is_correct, tf.float32))\n",
    "\n"
   ]
  },
  {
   "cell_type": "code",
   "execution_count": 36,
   "metadata": {},
   "outputs": [
    {
     "name": "stdout",
     "output_type": "stream",
     "text": [
      "Epoch: 0001 cost = 2.902763102\n",
      "Epoch: 0002 cost = 1.147696101\n",
      "Epoch: 0003 cost = 0.899582009\n",
      "Epoch: 0004 cost = 0.782108365\n",
      "Epoch: 0005 cost = 0.708588707\n",
      "Epoch: 0006 cost = 0.657281438\n",
      "Epoch: 0007 cost = 0.618186643\n",
      "Epoch: 0008 cost = 0.587692197\n",
      "Epoch: 0009 cost = 0.562591392\n",
      "Epoch: 0010 cost = 0.541922058\n",
      "Epoch: 0011 cost = 0.524483568\n",
      "Epoch: 0012 cost = 0.508446087\n",
      "Epoch: 0013 cost = 0.495404988\n",
      "Epoch: 0014 cost = 0.483119052\n",
      "Epoch: 0015 cost = 0.472334381\n"
     ]
    }
   ],
   "source": [
    "# Training poch/batch\n",
    "\n",
    "training_epochs = 15  # epoch는 데이터를 한번 돌리는 것 (총 15번)\n",
    "batch_size = 100   # 한번 돌릴 때의 데이터 사이즈 (100개의 데이터)\n",
    "\n",
    "wtraining_epochs = 15\n",
    "batch_size = 100\n",
    "\n",
    "sess = tf.Session()\n",
    "sess.run(tf.global_variables_initializer())\n",
    "\n",
    "for epoch in range(training_epochs):\n",
    "    avg_cost = 0\n",
    "    total_batch = int(mnist.train.num_examples / batch_size)\n",
    "\n",
    "    for i in range(total_batch):\n",
    "        batch_xs, batch_ys = mnist.train.next_batch(batch_size)\n",
    "        c, _ = sess.run([cost, optimizer], \n",
    "                               feed_dict={X: batch_xs, Y: batch_ys})\n",
    "        avg_cost += c / total_batch\n",
    "\n",
    "    print('Epoch:', '%04d' % (epoch + 1), \n",
    "                               'cost =', '{:.9f}'.format(avg_cost))\n",
    "\n"
   ]
  },
  {
   "cell_type": "code",
   "execution_count": null,
   "metadata": {
    "collapsed": true
   },
   "outputs": [],
   "source": []
  },
  {
   "cell_type": "code",
   "execution_count": 39,
   "metadata": {},
   "outputs": [
    {
     "name": "stdout",
     "output_type": "stream",
     "text": [
      "Accuracy:  0.8879\n"
     ]
    }
   ],
   "source": [
    "# 테스트데이터로 성능 평가\n",
    "print(\"Accuracy: \", accuracy.eval(session=sess,feed_dict={X: mnist.test.images, Y: mnist.test.labels}))\n"
   ]
  },
  {
   "cell_type": "code",
   "execution_count": 40,
   "metadata": {},
   "outputs": [
    {
     "name": "stdout",
     "output_type": "stream",
     "text": [
      "Label: [7]\n",
      "Prediction: [7]\n"
     ]
    },
    {
     "data": {
      "image/png": "[encoded data removed]",
      "text/plain": [
       "<matplotlib.figure.Figure at 0x12b8862e8>"
      ]
     },
     "metadata": {},
     "output_type": "display_data"
    }
   ],
   "source": [
    "\n",
    "\n",
    "# 숫자 하나를 랜덤하게 불러와 예측값과 맞는지 확인\n",
    "r = random.randint(0, mnist.test.num_examples - 1)\n",
    "print(\"Label:\", sess.run(tf.argmax(mnist.test.labels[r:r+1], 1)))\n",
    "print(\"Prediction:\", sess.run(tf.argmax(hypothesis, 1), \n",
    "                      feed_dict={X: mnist.test.images[r:r + 1]}))\n",
    "\n",
    "# 이미지로 확인\n",
    "plt.imshow(mnist.test.images[r:r + 1].\n",
    "          reshape(28, 28), cmap='Greys', interpolation='nearest')\n",
    "plt.show()\n"
   ]
  },
  {
   "cell_type": "code",
   "execution_count": null,
   "metadata": {
    "collapsed": true
   },
   "outputs": [],
   "source": []
  }
 ],
 "metadata": {
  "kernelspec": {
   "display_name": "Python 3",
   "language": "python",
   "name": "python3"
  },
  "language_info": {
   "codemirror_mode": {
    "name": "ipython",
    "version": 3
   },
   "file_extension": ".py",
   "mimetype": "text/x-python",
   "name": "python",
   "nbconvert_exporter": "python",
   "pygments_lexer": "ipython3",
   "version": "3.6.1"
  }
 },
 "nbformat": 4,
 "nbformat_minor": 2
}
